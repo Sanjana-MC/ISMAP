{
  "cells": [
    {
      "cell_type": "markdown",
      "metadata": {
        "id": "76sA2BuJxW3H"
      },
      "source": [
        "importing pakages"
      ]
    },
    {
      "cell_type": "code",
      "execution_count": null,
      "metadata": {
        "id": "9opYE30yxc-X"
      },
      "outputs": [],
      "source": [
        "import numpy as np\n",
        "import matplotlib.pyplot as plt\n",
        "import pandas as pd\n"
      ]
    },
    {
      "cell_type": "markdown",
      "metadata": {
        "id": "q4aI0WiE0s7B"
      },
      "source": [
        "importing the dataset"
      ]
    },
    {
      "cell_type": "code",
      "execution_count": null,
      "metadata": {
        "colab": {
          "base_uri": "https://localhost:8080/",
          "height": 1000
        },
        "id": "JxNn8zq0FTS0",
        "outputId": "870b86eb-b6f7-4ae1-e228-9d5e509c36f2"
      },
      "outputs": [
        {
          "output_type": "display_data",
          "data": {
            "text/plain": [
              "<IPython.core.display.HTML object>"
            ],
            "text/html": [
              "\n",
              "     <input type=\"file\" id=\"files-341d2717-bbd9-4dc8-b7f5-03bc04a4bf14\" name=\"files[]\" multiple disabled\n",
              "        style=\"border:none\" />\n",
              "     <output id=\"result-341d2717-bbd9-4dc8-b7f5-03bc04a4bf14\">\n",
              "      Upload widget is only available when the cell has been executed in the\n",
              "      current browser session. Please rerun this cell to enable.\n",
              "      </output>\n",
              "      <script>// Copyright 2017 Google LLC\n",
              "//\n",
              "// Licensed under the Apache License, Version 2.0 (the \"License\");\n",
              "// you may not use this file except in compliance with the License.\n",
              "// You may obtain a copy of the License at\n",
              "//\n",
              "//      http://www.apache.org/licenses/LICENSE-2.0\n",
              "//\n",
              "// Unless required by applicable law or agreed to in writing, software\n",
              "// distributed under the License is distributed on an \"AS IS\" BASIS,\n",
              "// WITHOUT WARRANTIES OR CONDITIONS OF ANY KIND, either express or implied.\n",
              "// See the License for the specific language governing permissions and\n",
              "// limitations under the License.\n",
              "\n",
              "/**\n",
              " * @fileoverview Helpers for google.colab Python module.\n",
              " */\n",
              "(function(scope) {\n",
              "function span(text, styleAttributes = {}) {\n",
              "  const element = document.createElement('span');\n",
              "  element.textContent = text;\n",
              "  for (const key of Object.keys(styleAttributes)) {\n",
              "    element.style[key] = styleAttributes[key];\n",
              "  }\n",
              "  return element;\n",
              "}\n",
              "\n",
              "// Max number of bytes which will be uploaded at a time.\n",
              "const MAX_PAYLOAD_SIZE = 100 * 1024;\n",
              "\n",
              "function _uploadFiles(inputId, outputId) {\n",
              "  const steps = uploadFilesStep(inputId, outputId);\n",
              "  const outputElement = document.getElementById(outputId);\n",
              "  // Cache steps on the outputElement to make it available for the next call\n",
              "  // to uploadFilesContinue from Python.\n",
              "  outputElement.steps = steps;\n",
              "\n",
              "  return _uploadFilesContinue(outputId);\n",
              "}\n",
              "\n",
              "// This is roughly an async generator (not supported in the browser yet),\n",
              "// where there are multiple asynchronous steps and the Python side is going\n",
              "// to poll for completion of each step.\n",
              "// This uses a Promise to block the python side on completion of each step,\n",
              "// then passes the result of the previous step as the input to the next step.\n",
              "function _uploadFilesContinue(outputId) {\n",
              "  const outputElement = document.getElementById(outputId);\n",
              "  const steps = outputElement.steps;\n",
              "\n",
              "  const next = steps.next(outputElement.lastPromiseValue);\n",
              "  return Promise.resolve(next.value.promise).then((value) => {\n",
              "    // Cache the last promise value to make it available to the next\n",
              "    // step of the generator.\n",
              "    outputElement.lastPromiseValue = value;\n",
              "    return next.value.response;\n",
              "  });\n",
              "}\n",
              "\n",
              "/**\n",
              " * Generator function which is called between each async step of the upload\n",
              " * process.\n",
              " * @param {string} inputId Element ID of the input file picker element.\n",
              " * @param {string} outputId Element ID of the output display.\n",
              " * @return {!Iterable<!Object>} Iterable of next steps.\n",
              " */\n",
              "function* uploadFilesStep(inputId, outputId) {\n",
              "  const inputElement = document.getElementById(inputId);\n",
              "  inputElement.disabled = false;\n",
              "\n",
              "  const outputElement = document.getElementById(outputId);\n",
              "  outputElement.innerHTML = '';\n",
              "\n",
              "  const pickedPromise = new Promise((resolve) => {\n",
              "    inputElement.addEventListener('change', (e) => {\n",
              "      resolve(e.target.files);\n",
              "    });\n",
              "  });\n",
              "\n",
              "  const cancel = document.createElement('button');\n",
              "  inputElement.parentElement.appendChild(cancel);\n",
              "  cancel.textContent = 'Cancel upload';\n",
              "  const cancelPromise = new Promise((resolve) => {\n",
              "    cancel.onclick = () => {\n",
              "      resolve(null);\n",
              "    };\n",
              "  });\n",
              "\n",
              "  // Wait for the user to pick the files.\n",
              "  const files = yield {\n",
              "    promise: Promise.race([pickedPromise, cancelPromise]),\n",
              "    response: {\n",
              "      action: 'starting',\n",
              "    }\n",
              "  };\n",
              "\n",
              "  cancel.remove();\n",
              "\n",
              "  // Disable the input element since further picks are not allowed.\n",
              "  inputElement.disabled = true;\n",
              "\n",
              "  if (!files) {\n",
              "    return {\n",
              "      response: {\n",
              "        action: 'complete',\n",
              "      }\n",
              "    };\n",
              "  }\n",
              "\n",
              "  for (const file of files) {\n",
              "    const li = document.createElement('li');\n",
              "    li.append(span(file.name, {fontWeight: 'bold'}));\n",
              "    li.append(span(\n",
              "        `(${file.type || 'n/a'}) - ${file.size} bytes, ` +\n",
              "        `last modified: ${\n",
              "            file.lastModifiedDate ? file.lastModifiedDate.toLocaleDateString() :\n",
              "                                    'n/a'} - `));\n",
              "    const percent = span('0% done');\n",
              "    li.appendChild(percent);\n",
              "\n",
              "    outputElement.appendChild(li);\n",
              "\n",
              "    const fileDataPromise = new Promise((resolve) => {\n",
              "      const reader = new FileReader();\n",
              "      reader.onload = (e) => {\n",
              "        resolve(e.target.result);\n",
              "      };\n",
              "      reader.readAsArrayBuffer(file);\n",
              "    });\n",
              "    // Wait for the data to be ready.\n",
              "    let fileData = yield {\n",
              "      promise: fileDataPromise,\n",
              "      response: {\n",
              "        action: 'continue',\n",
              "      }\n",
              "    };\n",
              "\n",
              "    // Use a chunked sending to avoid message size limits. See b/62115660.\n",
              "    let position = 0;\n",
              "    do {\n",
              "      const length = Math.min(fileData.byteLength - position, MAX_PAYLOAD_SIZE);\n",
              "      const chunk = new Uint8Array(fileData, position, length);\n",
              "      position += length;\n",
              "\n",
              "      const base64 = btoa(String.fromCharCode.apply(null, chunk));\n",
              "      yield {\n",
              "        response: {\n",
              "          action: 'append',\n",
              "          file: file.name,\n",
              "          data: base64,\n",
              "        },\n",
              "      };\n",
              "\n",
              "      let percentDone = fileData.byteLength === 0 ?\n",
              "          100 :\n",
              "          Math.round((position / fileData.byteLength) * 100);\n",
              "      percent.textContent = `${percentDone}% done`;\n",
              "\n",
              "    } while (position < fileData.byteLength);\n",
              "  }\n",
              "\n",
              "  // All done.\n",
              "  yield {\n",
              "    response: {\n",
              "      action: 'complete',\n",
              "    }\n",
              "  };\n",
              "}\n",
              "\n",
              "scope.google = scope.google || {};\n",
              "scope.google.colab = scope.google.colab || {};\n",
              "scope.google.colab._files = {\n",
              "  _uploadFiles,\n",
              "  _uploadFilesContinue,\n",
              "};\n",
              "})(self);\n",
              "</script> "
            ]
          },
          "metadata": {}
        },
        {
          "output_type": "stream",
          "name": "stdout",
          "text": [
            "Saving ISMAP_Responses.csv to ISMAP_Responses.csv\n",
            "              Timestamp What is your age?  \\\n",
            "0    3/17/2022 14:05:53             19-22   \n",
            "1    3/17/2022 14:49:46             19-22   \n",
            "2    3/17/2022 14:50:55             19-22   \n",
            "3    3/17/2022 14:57:12             19-22   \n",
            "4    3/17/2022 14:59:13             19-22   \n",
            "..                  ...               ...   \n",
            "306  3/31/2022 17:01:33             19-22   \n",
            "307  3/31/2022 18:39:01             19-22   \n",
            "308    04-01-2022 06:12             19-22   \n",
            "309    04-01-2022 20:23             19-22   \n",
            "310    04-02-2022 19:46             19-22   \n",
            "\n",
            "    Which of the following best describes the level of your current education status?  \\\n",
            "0                                        Undergraduate                                  \n",
            "1                                        Undergraduate                                  \n",
            "2                                        Undergraduate                                  \n",
            "3                                        Undergraduate                                  \n",
            "4                                        Undergraduate                                  \n",
            "..                                                 ...                                  \n",
            "306                                      Undergraduate                                  \n",
            "307                                      Undergraduate                                  \n",
            "308                                      Undergraduate                                  \n",
            "309                                      Undergraduate                                  \n",
            "310                                      Undergraduate                                  \n",
            "\n",
            "    How many social networking (like Facebook, Instagram, Twitter, LinkedIn, YouTube and many more) are you member of ?  \\\n",
            "0                                                    4                                                                    \n",
            "1                                          More than 4                                                                    \n",
            "2                                                    4                                                                    \n",
            "3                                                    3                                                                    \n",
            "4                                          More than 4                                                                    \n",
            "..                                                 ...                                                                    \n",
            "306                                        More than 4                                                                    \n",
            "307                                        More than 4                                                                    \n",
            "308                                                  3                                                                    \n",
            "309                                        More than 4                                                                    \n",
            "310                                                  3                                                                    \n",
            "\n",
            "    How long have you been using social media?  \\\n",
            "0                                     5+ years   \n",
            "1                                     5+ years   \n",
            "2                                    3-4 years   \n",
            "3                                     5+ years   \n",
            "4                                     5+ years   \n",
            "..                                         ...   \n",
            "306                                  3-4 years   \n",
            "307                                  3-4 years   \n",
            "308                                  3-4 years   \n",
            "309                                   5+ years   \n",
            "310                                  3-4 years   \n",
            "\n",
            "    How many hours a day do you spend on social media activities?  \\\n",
            "0                                    More than 7 hours              \n",
            "1                                            2-3 hours              \n",
            "2                                            2-3 hours              \n",
            "3                                    More than 7 hours              \n",
            "4                                    More than 7 hours              \n",
            "..                                                 ...              \n",
            "306                                          4-5 hours              \n",
            "307                                          2-3 hours              \n",
            "308                                          4-5 hours              \n",
            "309                                          6-7 hours              \n",
            "310                                          2-3 hours              \n",
            "\n",
            "    Why do you use social media the most?  \\\n",
            "0                                  Others   \n",
            "1                               Socialize   \n",
            "2                                  Others   \n",
            "3                                  Others   \n",
            "4                                  Others   \n",
            "..                                    ...   \n",
            "306                             Socialize   \n",
            "307                                Others   \n",
            "308                             Socialize   \n",
            "309                                Others   \n",
            "310                             Socialize   \n",
            "\n",
            "    Do you think use of social media leads to procrastination?  \\\n",
            "0                                                  Yes           \n",
            "1                                                  Yes           \n",
            "2                                                  Yes           \n",
            "3                                                  Yes           \n",
            "4                                                  Yes           \n",
            "..                                                 ...           \n",
            "306                                                Yes           \n",
            "307                                                 No           \n",
            "308                                                Yes           \n",
            "309                                                Yes           \n",
            "310                                                Yes           \n",
            "\n",
            "    Do you think social media has distracted from academic learning activities?  \\\n",
            "0                                                  Yes                            \n",
            "1                                                  Yes                            \n",
            "2                                                  Yes                            \n",
            "3                                                  Yes                            \n",
            "4                                                  Yes                            \n",
            "..                                                 ...                            \n",
            "306                                                 No                            \n",
            "307                                                 No                            \n",
            "308                                                Yes                            \n",
            "309                                                Yes                            \n",
            "310                                                Yes                            \n",
            "\n",
            "    Has Social media affected completion of  your assignment? Or Do you difficulty in meeting the deadlines because of social media?  \\\n",
            "0                                                  Yes                                                                                 \n",
            "1                                                  Yes                                                                                 \n",
            "2                                                  Yes                                                                                 \n",
            "3                                                  Yes                                                                                 \n",
            "4                                                  Yes                                                                                 \n",
            "..                                                 ...                                                                                 \n",
            "306                                                 No                                                                                 \n",
            "307                                                 No                                                                                 \n",
            "308                                                 No                                                                                 \n",
            "309                                                 No                                                                                 \n",
            "310                                                Yes                                                                                 \n",
            "\n",
            "     ... How many times do you check social media while studying?  \\\n",
            "0    ...                                         Frequently         \n",
            "1    ...                                          Sometimes         \n",
            "2    ...                                         Frequently         \n",
            "3    ...                                         Frequently         \n",
            "4    ...                                         Frequently         \n",
            "..   ...                                                ...         \n",
            "306  ...                                          Sometimes         \n",
            "307  ...                                          Sometimes         \n",
            "308  ...                                          Sometimes         \n",
            "309  ...                                          Sometimes         \n",
            "310  ...                                         Frequently         \n",
            "\n",
            "    How many times do you check social media during online classes?  \\\n",
            "0                                           Frequently                \n",
            "1                                            Sometimes                \n",
            "2                                            Sometimes                \n",
            "3                                           Frequently                \n",
            "4                                            Sometimes                \n",
            "..                                                 ...                \n",
            "306                                          Sometimes                \n",
            "307                                             Rarely                \n",
            "308                                          Sometimes                \n",
            "309                                          Sometimes                \n",
            "310                                         Frequently                \n",
            "\n",
            "    “My writing ability has reduced significantly during offline exams.”  \\\n",
            "0                                                  Yes                     \n",
            "1                                                  Yes                     \n",
            "2                                                   No                     \n",
            "3                                                  Yes                     \n",
            "4                                                  Yes                     \n",
            "..                                                 ...                     \n",
            "306                                                Yes                     \n",
            "307                                                Yes                     \n",
            "308                                                 No                     \n",
            "309                                                 No                     \n",
            "310                                                Yes                     \n",
            "\n",
            "    “I use texting language while writing and sometimes I forget (or unaware) the actual spelling of a word while writing”.  \\\n",
            "0                                                  Yes                                                                        \n",
            "1                                                  Yes                                                                        \n",
            "2                                                  Yes                                                                        \n",
            "3                                                  Yes                                                                        \n",
            "4                                                   No                                                                        \n",
            "..                                                 ...                                                                        \n",
            "306                                                 No                                                                        \n",
            "307                                                Yes                                                                        \n",
            "308                                                 No                                                                        \n",
            "309                                                 No                                                                        \n",
            "310                                                 No                                                                        \n",
            "\n",
            "    Do you think excess usage of social media has affected your thought process?  \\\n",
            "0                                                   No                             \n",
            "1                                                  Yes                             \n",
            "2                                                   No                             \n",
            "3                                                  Yes                             \n",
            "4                                                   No                             \n",
            "..                                                 ...                             \n",
            "306                                                 No                             \n",
            "307                                                 No                             \n",
            "308                                                Yes                             \n",
            "309                                                Yes                             \n",
            "310                                                 No                             \n",
            "\n",
            "    Do you feel your grasping power has been affected by using social media for quiet a long time?  \\\n",
            "0                                                  Yes                                               \n",
            "1                                                  Yes                                               \n",
            "2                                                  Yes                                               \n",
            "3                                                  Yes                                               \n",
            "4                                                  Yes                                               \n",
            "..                                                 ...                                               \n",
            "306                                                 No                                               \n",
            "307                                                 No                                               \n",
            "308                                                Yes                                               \n",
            "309                                                Yes                                               \n",
            "310                                                 No                                               \n",
            "\n",
            "    Social media provides a useful platform for academic group work?  \\\n",
            "0                                                  Yes                 \n",
            "1                                                  Yes                 \n",
            "2                                                  Yes                 \n",
            "3                                                  Yes                 \n",
            "4                                                  Yes                 \n",
            "..                                                 ...                 \n",
            "306                                                Yes                 \n",
            "307                                                Yes                 \n",
            "308                                                Yes                 \n",
            "309                                                Yes                 \n",
            "310                                                Yes                 \n",
            "\n",
            "    Has social media affected your communication and presentation skills?  \\\n",
            "0                                                  Yes                      \n",
            "1                                                  Yes                      \n",
            "2                                                  Yes                      \n",
            "3                                                  Yes                      \n",
            "4                                                   No                      \n",
            "..                                                 ...                      \n",
            "306                                                 No                      \n",
            "307                                                 No                      \n",
            "308                                                 No                      \n",
            "309                                                Yes                      \n",
            "310                                                 No                      \n",
            "\n",
            "    Do you feel you are addicted to Social Media?  \\\n",
            "0                                             Yes   \n",
            "1                                             Yes   \n",
            "2                                             Yes   \n",
            "3                                             Yes   \n",
            "4                                             Yes   \n",
            "..                                            ...   \n",
            "306                                           Yes   \n",
            "307                                            No   \n",
            "308                                            No   \n",
            "309                                            No   \n",
            "310                                           Yes   \n",
            "\n",
            "    Has Social media affected your academic performance negatively?  Or Without social media do you feel your academic performance would have been better?  \n",
            "0                                                  Yes                                                                                                      \n",
            "1                                                   No                                                                                                      \n",
            "2                                                  Yes                                                                                                      \n",
            "3                                                  Yes                                                                                                      \n",
            "4                                                  Yes                                                                                                      \n",
            "..                                                 ...                                                                                                      \n",
            "306                                                 No                                                                                                      \n",
            "307                                                 No                                                                                                      \n",
            "308                                                Yes                                                                                                      \n",
            "309                                                Yes                                                                                                      \n",
            "310                                                Yes                                                                                                      \n",
            "\n",
            "[311 rows x 21 columns]\n"
          ]
        }
      ],
      "source": [
        "from google.colab import files\n",
        "uploaded = files.upload()\n",
        "\n",
        "import io\n",
        "\n",
        "df2 = pd.read_csv(io.BytesIO(uploaded['ISMAP_Responses.csv']))\n",
        "print(df2)"
      ]
    },
    {
      "cell_type": "markdown",
      "metadata": {
        "id": "4Svyo2UbJnvR"
      },
      "source": [
        "Cleaning data, removal of Timestamp and Age"
      ]
    },
    {
      "cell_type": "code",
      "execution_count": null,
      "metadata": {
        "id": "Z-uwCdIIH69h"
      },
      "outputs": [],
      "source": [
        "df2.drop('Timestamp',axis=1, inplace=True)"
      ]
    },
    {
      "cell_type": "code",
      "execution_count": null,
      "metadata": {
        "id": "fmi14TyfJjY5"
      },
      "outputs": [],
      "source": [
        "df2.drop('What is your age?',axis=1, inplace=True)"
      ]
    },
    {
      "cell_type": "code",
      "execution_count": null,
      "metadata": {
        "id": "Yv97nmLWCoJg"
      },
      "outputs": [],
      "source": [
        "df2.drop('“I use texting language while writing and sometimes I forget (or unaware) the actual spelling of a word while writing”.',axis=1, inplace=True)"
      ]
    },
    {
      "cell_type": "code",
      "execution_count": null,
      "metadata": {
        "id": "BIZi3nPyT9eH"
      },
      "outputs": [],
      "source": [
        "#df2.drop('Has Social media affected your academic performance negatively?  Or Without social media do you feel your academic performance would have been better?',axis=1, inplace=True)"
      ]
    },
    {
      "cell_type": "code",
      "execution_count": null,
      "metadata": {
        "id": "QU7wS-PFT-Z8"
      },
      "outputs": [],
      "source": [
        "df2.drop('How long have you been using social media?',axis=1, inplace=True)"
      ]
    },
    {
      "cell_type": "code",
      "execution_count": null,
      "metadata": {
        "id": "YVzfxILJThFs"
      },
      "outputs": [],
      "source": [
        "df2.drop('Which of the following best describes the level of your current education status?',axis=1, inplace=True)"
      ]
    },
    {
      "cell_type": "code",
      "execution_count": null,
      "metadata": {
        "id": "7-UrtkYLUmZR"
      },
      "outputs": [],
      "source": [
        "df2.drop('How many social networking (like Facebook, Instagram, Twitter, LinkedIn, YouTube and many more) are you member of ?',axis=1, inplace=True)"
      ]
    },
    {
      "cell_type": "code",
      "execution_count": null,
      "metadata": {
        "id": "7AlF8QvcUmoa"
      },
      "outputs": [],
      "source": [
        "#df2.drop('How many hours a day do you spend on social media activities?',axis=1, inplace=True)"
      ]
    },
    {
      "cell_type": "code",
      "execution_count": null,
      "metadata": {
        "id": "8UJmP7gFVoo2"
      },
      "outputs": [],
      "source": [
        "#df2.drop('Has social media affected your communication and presentation skills?',axis=1, inplace=True)"
      ]
    },
    {
      "cell_type": "code",
      "execution_count": null,
      "metadata": {
        "id": "FDp8HvPFUnBz"
      },
      "outputs": [],
      "source": [
        "df2.drop('Why do you use social media the most?',axis=1, inplace=True)"
      ]
    },
    {
      "cell_type": "code",
      "execution_count": null,
      "metadata": {
        "id": "sG6NSCPg_yng"
      },
      "outputs": [],
      "source": [
        "df2.drop('Social media provides a useful platform for academic group work?',axis=1, inplace=True)"
      ]
    },
    {
      "cell_type": "code",
      "execution_count": null,
      "metadata": {
        "id": "r3FjkKb_XISt"
      },
      "outputs": [],
      "source": [
        "#df2.drop('“My writing ability has reduced significantly during offline exams.”',axis=1, inplace=True)"
      ]
    },
    {
      "cell_type": "code",
      "execution_count": null,
      "metadata": {
        "id": "H_I-d-4-J0IN"
      },
      "outputs": [],
      "source": [
        "# df2.rename(columns=({'Education':'Edu'}))"
      ]
    },
    {
      "cell_type": "code",
      "execution_count": null,
      "metadata": {
        "id": "KRYk5iF9OTPJ"
      },
      "outputs": [],
      "source": [
        "df2.to_csv('ISMAP_Responses.csv')"
      ]
    },
    {
      "cell_type": "markdown",
      "metadata": {
        "id": "kZM5_O2zKPHy"
      },
      "source": [
        "Changing Column heads"
      ]
    },
    {
      "cell_type": "code",
      "execution_count": null,
      "metadata": {
        "colab": {
          "base_uri": "https://localhost:8080/"
        },
        "id": "R8EcZeWgMLpl",
        "outputId": "ec3c3eb8-62c7-4a50-cb22-c0c2cae57e32"
      },
      "outputs": [
        {
          "output_type": "execute_result",
          "data": {
            "text/plain": [
              "Index(['How many hours a day do you spend on social media activities?',\n",
              "       'Do you think use of social media leads to procrastination?',\n",
              "       'Do you think social media has distracted from academic learning activities?',\n",
              "       'Has Social media affected completion of  your assignment? Or Do you difficulty in meeting the deadlines because of social media?',\n",
              "       '“Social Media has impacted my memorizing capacity and focus on studies.”',\n",
              "       'How many times do you check social media while studying?',\n",
              "       'How many times do you check social media during online classes?',\n",
              "       '“My writing ability has reduced significantly during offline exams.”',\n",
              "       'Do you think excess usage of social media has affected your thought process?',\n",
              "       'Do you feel your grasping power has been affected by using social media for quiet a long time?',\n",
              "       'Has social media affected your communication and presentation skills?',\n",
              "       'Do you feel you are addicted to Social Media?',\n",
              "       'Has Social media affected your academic performance negatively?  Or Without social media do you feel your academic performance would have been better?'],\n",
              "      dtype='object')"
            ]
          },
          "metadata": {},
          "execution_count": 13
        }
      ],
      "source": [
        "df2.columns"
      ]
    },
    {
      "cell_type": "code",
      "execution_count": null,
      "metadata": {
        "id": "ABxk8VtIPbWC"
      },
      "outputs": [],
      "source": [
        "df2_cols=['FreqPerDay','Procastination', 'Distraction', 'DeadLines','Memorizing', 'FreqStudy', 'FreqOnlineClass', 'WritingAbility',\n",
        "       'ThoughtProcess', 'GrasingPower', 'CommPresen','SMAddiction','SMNegative']"
      ]
    },
    {
      "cell_type": "code",
      "execution_count": null,
      "metadata": {
        "id": "eVrcuCLpP98A"
      },
      "outputs": [],
      "source": [
        "df2.columns=df2_cols"
      ]
    },
    {
      "cell_type": "markdown",
      "metadata": {
        "id": "9eESEDjYKUCz"
      },
      "source": [
        "Data Transformation"
      ]
    },
    {
      "cell_type": "code",
      "execution_count": null,
      "metadata": {
        "id": "4YWAFaNhhtL1"
      },
      "outputs": [],
      "source": [
        "df2['SMAddiction']=df2['SMAddiction'].map({'Yes' : 1 , 'No': 0})"
      ]
    },
    {
      "cell_type": "code",
      "execution_count": null,
      "metadata": {
        "id": "vTbeWfeFm1VY"
      },
      "outputs": [],
      "source": [
        "df2['Procastination']=df2['Procastination'].map({'Yes' : 1 , 'No': 0})"
      ]
    },
    {
      "cell_type": "code",
      "execution_count": null,
      "metadata": {
        "id": "k-8QZ6wVm1i5"
      },
      "outputs": [],
      "source": [
        "df2['Distraction']=df2['Distraction'].map({'Yes' : 1 , 'No': 0})"
      ]
    },
    {
      "cell_type": "code",
      "execution_count": null,
      "metadata": {
        "id": "yFZYPJttm1qh"
      },
      "outputs": [],
      "source": [
        "df2['DeadLines']=df2['DeadLines'].map({'Yes' : 1 , 'No': 0})"
      ]
    },
    {
      "cell_type": "code",
      "execution_count": null,
      "metadata": {
        "id": "nTujWu_6nZUP"
      },
      "outputs": [],
      "source": [
        "df2['Memorizing']=df2['Memorizing'].map({'Yes' : 1 , 'No': 0})"
      ]
    },
    {
      "cell_type": "code",
      "execution_count": null,
      "metadata": {
        "id": "CsGCrAQlnjjS"
      },
      "outputs": [],
      "source": [
        "df2['WritingAbility']=df2['WritingAbility'].map({'Yes' : 1 , 'No': 0})"
      ]
    },
    {
      "cell_type": "code",
      "execution_count": null,
      "metadata": {
        "id": "dj6x1aDLnjs2"
      },
      "outputs": [],
      "source": [
        "#df2['Unaware']=df2['Unaware'].map({'Yes' : 1 , 'No': 0})"
      ]
    },
    {
      "cell_type": "code",
      "execution_count": null,
      "metadata": {
        "id": "izNVz3EInj2n"
      },
      "outputs": [],
      "source": [
        "df2['ThoughtProcess']=df2['ThoughtProcess'].map({'Yes' : 1 , 'No': 0})"
      ]
    },
    {
      "cell_type": "code",
      "execution_count": null,
      "metadata": {
        "id": "ggfCeqTYnkON"
      },
      "outputs": [],
      "source": [
        "df2['GrasingPower']=df2['GrasingPower'].map({'Yes' : 1 , 'No': 0})"
      ]
    },
    {
      "cell_type": "code",
      "execution_count": null,
      "metadata": {
        "id": "-w8HsKpmnkVU"
      },
      "outputs": [],
      "source": [
        "#df2['UsefulAP']=df2['UsefulAP'].map({'Yes' : 1 , 'No': 0})"
      ]
    },
    {
      "cell_type": "code",
      "execution_count": null,
      "metadata": {
        "id": "UoLEnMmknkZu"
      },
      "outputs": [],
      "source": [
        "df2['CommPresen']=df2['CommPresen'].map({'Yes' : 1 , 'No': 0})"
      ]
    },
    {
      "cell_type": "code",
      "execution_count": null,
      "metadata": {
        "id": "Y7u5g-8gD3mL"
      },
      "outputs": [],
      "source": [
        "df2['FreqStudy']=df2['FreqStudy'].map({'Rarely' : 0 , 'Sometimes': 1,'Frequently':2})"
      ]
    },
    {
      "cell_type": "code",
      "execution_count": null,
      "metadata": {
        "id": "AKyMmk5MEQTC"
      },
      "outputs": [],
      "source": [
        "df2['FreqOnlineClass']=df2['FreqOnlineClass'].map({'Rarely' : 0 , 'Sometimes': 1,'Frequently':2})"
      ]
    },
    {
      "cell_type": "code",
      "execution_count": null,
      "metadata": {
        "id": "SMpGTiWWSQ0D"
      },
      "outputs": [],
      "source": [
        "df2['FreqPerDay']=df2['FreqPerDay'].map({'0-1 hours' : 0 , '2-3 hours': 1,'4-5 hours':2,'6-7 hours':3,'More than 7 hours':4})"
      ]
    },
    {
      "cell_type": "code",
      "execution_count": null,
      "metadata": {
        "id": "L1LgfbGzqsfq"
      },
      "outputs": [],
      "source": [
        "#df2['NoSM']=df2['NoSM'].map({'1' : 0 , '2': 1,'3':2,'4':3,'More than 4':4})"
      ]
    },
    {
      "cell_type": "code",
      "execution_count": null,
      "metadata": {
        "id": "3CLhNsiEq-t8"
      },
      "outputs": [],
      "source": [
        "#df2['YearsSM']=df2['YearsSM'].map({'Under 2 years' : 0 , '3-4 years': 1,'5+ years':2})"
      ]
    },
    {
      "cell_type": "code",
      "execution_count": null,
      "metadata": {
        "id": "sxKIBrq5ac5k"
      },
      "outputs": [],
      "source": [
        "df2['SMNegative']=df2['SMNegative'].map({'Yes' : 1 , 'No': 0})"
      ]
    },
    {
      "cell_type": "code",
      "source": [
        "print(df2)"
      ],
      "metadata": {
        "colab": {
          "base_uri": "https://localhost:8080/"
        },
        "id": "83c4jmGVpogA",
        "outputId": "4dbbea17-96d3-44b2-a29f-42d50e7b809c"
      },
      "execution_count": null,
      "outputs": [
        {
          "output_type": "stream",
          "name": "stdout",
          "text": [
            "     FreqPerDay  Procastination  Distraction  DeadLines  Memorizing  \\\n",
            "0             4               1            1          1           1   \n",
            "1             1               1            1          1           1   \n",
            "2             1               1            1          1           1   \n",
            "3             4               1            1          1           1   \n",
            "4             4               1            1          1           0   \n",
            "..          ...             ...          ...        ...         ...   \n",
            "306           2               1            0          0           0   \n",
            "307           1               0            0          0           0   \n",
            "308           2               1            1          0           0   \n",
            "309           3               1            1          0           1   \n",
            "310           1               1            1          1           1   \n",
            "\n",
            "     FreqStudy  FreqOnlineClass  WritingAbility  ThoughtProcess  GrasingPower  \\\n",
            "0            2                2               1               0             1   \n",
            "1            1                1               1               1             1   \n",
            "2            2                1               0               0             1   \n",
            "3            2                2               1               1             1   \n",
            "4            2                1               1               0             1   \n",
            "..         ...              ...             ...             ...           ...   \n",
            "306          1                1               1               0             0   \n",
            "307          1                0               1               0             0   \n",
            "308          1                1               0               1             1   \n",
            "309          1                1               0               1             1   \n",
            "310          2                2               1               0             0   \n",
            "\n",
            "     CommPresen  SMAddiction  SMNegative  \n",
            "0             1            1           1  \n",
            "1             1            1           0  \n",
            "2             1            1           1  \n",
            "3             1            1           1  \n",
            "4             0            1           1  \n",
            "..          ...          ...         ...  \n",
            "306           0            1           0  \n",
            "307           0            0           0  \n",
            "308           0            0           1  \n",
            "309           1            0           1  \n",
            "310           0            1           1  \n",
            "\n",
            "[311 rows x 13 columns]\n"
          ]
        }
      ]
    },
    {
      "cell_type": "markdown",
      "metadata": {
        "id": "dCz6qymmtE7P"
      },
      "source": [
        "Decision Tree\n",
        "Installation of package"
      ]
    },
    {
      "cell_type": "code",
      "execution_count": null,
      "metadata": {
        "id": "fanSwc5VtNeK"
      },
      "outputs": [],
      "source": [
        "from sklearn.metrics import confusion_matrix\n",
        "from sklearn.model_selection import train_test_split\n",
        "from sklearn.tree import DecisionTreeClassifier\n",
        "from sklearn.metrics import accuracy_score\n",
        "from sklearn.metrics import classification_report\n",
        "from sklearn import tree"
      ]
    },
    {
      "cell_type": "code",
      "execution_count": null,
      "metadata": {
        "colab": {
          "base_uri": "https://localhost:8080/"
        },
        "id": "Ev224m7YuZUY",
        "outputId": "27097511-16eb-4646-993b-076f8aa502ce"
      },
      "outputs": [
        {
          "output_type": "stream",
          "name": "stdout",
          "text": [
            "Dataset Length:  311\n",
            "Dataset Shape:  (311, 13)\n"
          ]
        }
      ],
      "source": [
        "print(\"Dataset Length: \",len(df2))\n",
        "print(\"Dataset Shape: \",df2.shape)"
      ]
    },
    {
      "cell_type": "code",
      "execution_count": null,
      "metadata": {
        "colab": {
          "base_uri": "https://localhost:8080/"
        },
        "id": "ftrYO194u-Pz",
        "outputId": "3ffbae10-e9fa-491c-fbb3-45ec6873ae40"
      },
      "outputs": [
        {
          "output_type": "stream",
          "name": "stdout",
          "text": [
            "Dataset:     FreqPerDay  Procastination  Distraction  DeadLines  Memorizing  FreqStudy  \\\n",
            "0           4               1            1          1           1          2   \n",
            "1           1               1            1          1           1          1   \n",
            "2           1               1            1          1           1          2   \n",
            "3           4               1            1          1           1          2   \n",
            "4           4               1            1          1           0          2   \n",
            "\n",
            "   FreqOnlineClass  WritingAbility  ThoughtProcess  GrasingPower  CommPresen  \\\n",
            "0                2               1               0             1           1   \n",
            "1                1               1               1             1           1   \n",
            "2                1               0               0             1           1   \n",
            "3                2               1               1             1           1   \n",
            "4                1               1               0             1           0   \n",
            "\n",
            "   SMAddiction  SMNegative  \n",
            "0            1           1  \n",
            "1            1           0  \n",
            "2            1           1  \n",
            "3            1           1  \n",
            "4            1           1  \n"
          ]
        }
      ],
      "source": [
        "print(\"Dataset: \", df2.head())"
      ]
    },
    {
      "cell_type": "code",
      "execution_count": null,
      "metadata": {
        "id": "sNqaK2vfvQcE"
      },
      "outputs": [],
      "source": [
        "def splitdataset(df2):\n",
        "  X=df2.values[:,0:12]\n",
        "  Y = df2.values[:,12]\n",
        "  X_train, X_test, y_train, y_test = train_test_split(X, Y, test_size = 0.3, random_state = 100)\n",
        "  return X, Y, X_train, X_test, y_train, y_test"
      ]
    },
    {
      "cell_type": "code",
      "execution_count": null,
      "metadata": {
        "id": "0qobsqViwMQa"
      },
      "outputs": [],
      "source": [
        "def train_using_gini(X_train, X_test, y_train):\n",
        "\n",
        "    # Creating the classifier object\n",
        "    clf_gini = DecisionTreeClassifier(criterion = \"gini\", random_state = 100, max_depth=10, min_samples_leaf=8)\n",
        "\n",
        "\n",
        "    # Performing training\n",
        "    clf_gini.fit(X_train, y_train)\n",
        "    return clf_gini"
      ]
    },
    {
      "cell_type": "markdown",
      "metadata": {
        "id": "-zPEYw1cwYkf"
      },
      "source": [
        "To make Predictions"
      ]
    },
    {
      "cell_type": "code",
      "execution_count": null,
      "metadata": {
        "id": "Aqd_kxtDwUVh"
      },
      "outputs": [],
      "source": [
        "def prediction(X_test, clf_object):\n",
        "    # Predicton on test with giniIndex\n",
        "    y_pred = clf_object.predict(X_test)\n",
        "    print(\"Predicted values:\")\n",
        "    print(y_pred)\n",
        "    return y_pred"
      ]
    },
    {
      "cell_type": "markdown",
      "metadata": {
        "id": "45y9D2tVwgJc"
      },
      "source": [
        "Calculating Accuracy"
      ]
    },
    {
      "cell_type": "code",
      "execution_count": null,
      "metadata": {
        "id": "vANJAZnOwjq1"
      },
      "outputs": [],
      "source": [
        "def cal_accuracy(y_test, y_pred):\n",
        "\n",
        "    print(\"Confusion Matrix: \",confusion_matrix(y_test, y_pred))\n",
        "\n",
        "    print (\"Accuracy : \",accuracy_score(y_test,y_pred)*100)\n",
        "\n",
        "    print(\"Report : \",\n",
        "    classification_report(y_test, y_pred))\n",
        ""
      ]
    },
    {
      "cell_type": "markdown",
      "metadata": {
        "id": "GQKK_3R_woXb"
      },
      "source": [
        "Driver Code"
      ]
    },
    {
      "cell_type": "code",
      "execution_count": null,
      "metadata": {
        "colab": {
          "base_uri": "https://localhost:8080/",
          "height": 1000
        },
        "id": "FS6ExCuOwqMm",
        "outputId": "95f87696-beb5-4a18-9a68-9a90a9d68a3d"
      },
      "outputs": [
        {
          "output_type": "stream",
          "name": "stdout",
          "text": [
            "0.7470401691331924\n",
            "0.6701754385964912\n",
            "Results Using Gini Index:\n",
            "Predicted values:\n",
            "[0 0 0 0 0 0 1 0 0 1 0 0 0 1 1 0 1 1 1 0 0 0 0 0 1 0 1 1 1 1 1 1 0 0 1 0 0\n",
            " 0 1 1 0 0 0 1 0 0 0 0 0 1 0 0 1 1 1 1 0 0 0 0 1 0 1 1 0 1 0 0 0 1 1 1 0 1\n",
            " 1 0 1 0 1 1 1 0 0 1 1 0 1 1 0 0 1 1 1 1]\n",
            "Confusion Matrix:  [[41  9]\n",
            " [ 9 35]]\n",
            "Accuracy :  80.85106382978722\n",
            "Report :                precision    recall  f1-score   support\n",
            "\n",
            "           0       0.82      0.82      0.82        50\n",
            "           1       0.80      0.80      0.80        44\n",
            "\n",
            "    accuracy                           0.81        94\n",
            "   macro avg       0.81      0.81      0.81        94\n",
            "weighted avg       0.81      0.81      0.81        94\n",
            "\n"
          ]
        },
        {
          "output_type": "display_data",
          "data": {
            "text/plain": [
              "<Figure size 1440x1800 with 1 Axes>"
            ],
            "image/png": "[encoded data removed]"
          },
          "metadata": {
            "needs_background": "light"
          }
        }
      ],
      "source": [
        "def main():\n",
        "\n",
        "    # Building Phase\n",
        "    X, Y, X_train, X_test, y_train, y_test = splitdataset(df2)\n",
        "    clf_gini = train_using_gini(X_train, X_test, y_train)\n",
        "\n",
        "    #k fold valsidation\n",
        "    from sklearn.model_selection import cross_val_score\n",
        "    train_scores=cross_val_score(clf_gini,X_train,y_train,scoring='accuracy', cv=5)\n",
        "    test_scores=cross_val_score(clf_gini,X_test,y_test,scoring='accuracy', cv=5)\n",
        "    print(train_scores.mean())\n",
        "    print(test_scores.mean())\n",
        "\n",
        "    # text_representation = tree.export_text(clf_gini)\n",
        "    # print(text_representation)\n",
        "\n",
        "    clg_gini=plt.figure(figsize=(20,25))\n",
        "    tree.plot_tree(clf_gini,fontsize=10)\n",
        "\n",
        "    # Operational Phase\n",
        "    print(\"Results Using Gini Index:\")\n",
        "\n",
        "    # Prediction using gini\n",
        "    y_pred_gini = prediction(X_test, clf_gini)\n",
        "    cal_accuracy(y_test, y_pred_gini)\n",
        "\n",
        "# Calling main function\n",
        "if __name__==\"__main__\":\n",
        "    main()"
      ]
    },
    {
      "cell_type": "markdown",
      "metadata": {
        "id": "SQ_wXWjZn0mW"
      },
      "source": [
        "KFold validation"
      ]
    },
    {
      "cell_type": "code",
      "execution_count": null,
      "metadata": {
        "id": "aKOpFkyTnjfo"
      },
      "outputs": [],
      "source": [
        "#from sklearn.model_selection import cross_val_score\n",
        "#train_scores=cross_val_score(clf_gini,X_train,y_train,scoring='accuracy', cv=5)\n",
        "#test_scores=cross_val_score(clf_gini,X_test,y_test,scoring='accuracy', cv=5)\n",
        "#train_scores\n",
        "#test_scores"
      ]
    },
    {
      "cell_type": "markdown",
      "metadata": {
        "id": "lhfIyDdZfeWS"
      },
      "source": [
        "Random Forset Algorithm"
      ]
    },
    {
      "cell_type": "code",
      "execution_count": null,
      "metadata": {
        "id": "j62fqv2Bfkc6"
      },
      "outputs": [],
      "source": [
        "X = df2.iloc[:, 0:12].values\n",
        "y = df2.iloc[:, 12].values\n",
        "from sklearn.model_selection import train_test_split\n",
        "\n",
        "X_train, X_test, y_train, y_test = train_test_split(X, y, test_size=0.3, random_state=100)\n"
      ]
    },
    {
      "cell_type": "markdown",
      "metadata": {
        "id": "jENRKgL3ht2J"
      },
      "source": [
        "Feature Scaling"
      ]
    },
    {
      "cell_type": "code",
      "execution_count": null,
      "metadata": {
        "id": "aaR4m731hrRQ"
      },
      "outputs": [],
      "source": [
        "from sklearn.preprocessing import StandardScaler\n",
        "\n",
        "sc = StandardScaler()\n",
        "X_train = sc.fit_transform(X_train)\n",
        "X_test = sc.transform(X_test)"
      ]
    },
    {
      "cell_type": "markdown",
      "metadata": {
        "id": "1dCryxF4hw3d"
      },
      "source": [
        "Training Algorithm"
      ]
    },
    {
      "cell_type": "code",
      "execution_count": null,
      "metadata": {
        "colab": {
          "base_uri": "https://localhost:8080/"
        },
        "id": "48aWGgFdhzo4",
        "outputId": "7a09c0a8-f369-4d59-9988-88187de723bf"
      },
      "outputs": [
        {
          "output_type": "stream",
          "name": "stdout",
          "text": [
            "\n",
            "0.7420718816067653\n",
            "0.7140350877192984\n",
            "ACCURACY OF THE MODEL:  0.7127659574468085\n",
            "For new Test data\n",
            "----------------------------------------------------------------------------------------------------------------\n",
            "How many hours a day do you spend on social media activities? 0\n",
            "Do you think use of social media leads to procrastination? 0\n",
            "Do you think social media has distracted from academic learning activities? 0\n",
            "Has Social media affected completion of  your assignment? Or Do you difficulty in meeting the deadlines because of social media? 0\n",
            "Social Media has impacted my memorizing capacity and focus on studies. 0\n",
            "How many times do you check social media while studying? 0\n",
            "How many times do you check social media during online classes? 0\n",
            "“My writing ability has reduced significantly during offline exams.” 0\n",
            "Do you think excess usage of social media has affected your thought process? 0\n",
            "Do you feel your grasping power has been affected by using social media for quiet a long time? 0\n",
            "Has social media affected your communication and presentation skills? 0\n",
            "Do you feel you are addicted to Social Media? 0\n",
            "----------------------------------------------------------------------------------------------------------------\n",
            "The predicted class is  1 : Social Media has affected Negatively\n"
          ]
        }
      ],
      "source": [
        "from sklearn.ensemble import RandomForestClassifier\n",
        "\n",
        "#Create a Gaussian Classifier\n",
        "clf=RandomForestClassifier(n_estimators=150)\n",
        "\n",
        "#Train the model using the training sets y_pred=clf.predict(X_test)\n",
        "clf.fit(X_train,y_train)\n",
        "\n",
        "y_pred=clf.predict(X_test)\n",
        "# performing predictions on the test dataset\n",
        "y_pred = clf.predict(X_test)\n",
        "\n",
        "# metrics are used to find accuracy or error\n",
        "from sklearn import metrics\n",
        "print()\n",
        "\n",
        "#k fold valsidation\n",
        "from sklearn.model_selection import cross_val_score\n",
        "train_scores=cross_val_score(clf,X_train,y_train,scoring='accuracy', cv=5)\n",
        "test_scores=cross_val_score(clf,X_test,y_test,scoring='accuracy', cv=5)\n",
        "print(train_scores.mean())\n",
        "print(test_scores.mean())\n",
        "\n",
        "# using metrics module for accuracy calculation\n",
        "print(\"ACCURACY OF THE MODEL: \", metrics.accuracy_score(y_test, y_pred))\n",
        "\n",
        "\n",
        "\n",
        "print(\"For new Test data\")\n",
        "print(\"----------------------------------------------------------------------------------------------------------------\")\n",
        "FreqPerDay=input(\"How many hours a day do you spend on social media activities? \")\n",
        "Procastination=input(\"Do you think use of social media leads to procrastination? \")\n",
        "Distraction=input(\"Do you think social media has distracted from academic learning activities? \")\n",
        "DeadLines=input(\"Has Social media affected completion of  your assignment? Or Do you difficulty in meeting the deadlines because of social media? \")\n",
        "Memorizing=input(\"Social Media has impacted my memorizing capacity and focus on studies. \")\n",
        "FreqStudy=input(\"How many times do you check social media while studying? \")\n",
        "FreqOnlineClass=input(\"How many times do you check social media during online classes? \")\n",
        "WritingAbility=input(\"“My writing ability has reduced significantly during offline exams.” \")\n",
        "ThoughtProcess=input(\"Do you think excess usage of social media has affected your thought process? \")\n",
        "GrasingPower=input(\"Do you feel your grasping power has been affected by using social media for quiet a long time? \")\n",
        "CommPresen=input(\"Has social media affected your communication and presentation skills? \")\n",
        "SMAddiction=input(\"Do you feel you are addicted to Social Media? \")\n",
        "print(\"----------------------------------------------------------------------------------------------------------------\")\n",
        "\n",
        "testdata=[[FreqPerDay,Procastination,Distraction,DeadLines,Memorizing,FreqStudy,FreqOnlineClass,WritingAbility,ThoughtProcess,GrasingPower,CommPresen,SMAddiction]]\n",
        "pred=clf.predict(testdata)\n",
        "if(pred==1):\n",
        "    print(\"The predicted class is \",pred[0],\": Social Media has affected Negatively\")\n",
        "else:\n",
        "    print(\"The predicted class is \",pred[0],\" :Social Media has not affected Negatively\")\n"
      ]
    },
    {
      "cell_type": "markdown",
      "metadata": {
        "id": "bB4Ifilbh1vy"
      },
      "source": [
        "Evaluating"
      ]
    },
    {
      "cell_type": "code",
      "execution_count": null,
      "metadata": {
        "colab": {
          "base_uri": "https://localhost:8080/",
          "height": 649
        },
        "id": "ketjFWNbh4AN",
        "outputId": "593b2004-65d6-4374-cf87-585343d11b86"
      },
      "outputs": [
        {
          "output_type": "stream",
          "name": "stdout",
          "text": [
            "[[87 15]\n",
            " [ 6 84]]\n",
            "              precision    recall  f1-score   support\n",
            "\n",
            "           0       0.94      0.85      0.89       102\n",
            "           1       0.85      0.93      0.89        90\n",
            "\n",
            "    accuracy                           0.89       192\n",
            "   macro avg       0.89      0.89      0.89       192\n",
            "weighted avg       0.89      0.89      0.89       192\n",
            "\n",
            "0.890625\n",
            "\n",
            " Accuracy Of Random Forest For The Given Dataset :  0.890625\n",
            "\n",
            " Confusion Matrix Of Random Forest For The Given Dataset : \n",
            " [[87 15]\n",
            " [ 6 84]]\n"
          ]
        },
        {
          "output_type": "display_data",
          "data": {
            "text/plain": [
              "<Figure size 432x288 with 2 Axes>"
            ],
            "image/png": "[encoded data removed]"
          },
          "metadata": {
            "needs_background": "light"
          }
        }
      ],
      "source": [
        "from sklearn.metrics import classification_report, confusion_matrix, accuracy_score\n",
        "\n",
        "print(confusion_matrix(y_test,y_pred))\n",
        "print(classification_report(y_test,y_pred))\n",
        "print(accuracy_score(y_test, y_pred))\n",
        "\n",
        "cm = confusion_matrix(y_test,y_pred)\n",
        "accuracy = float(cm.diagonal().sum())/len(y_test)\n",
        "print(\"\\n Accuracy Of Random Forest For The Given Dataset : \", accuracy)\n",
        "print(\"\\n Confusion Matrix Of Random Forest For The Given Dataset : \\n\", cm)\n",
        "\n",
        "import seaborn as sns\n",
        "\n",
        "ax = sns.heatmap(cm, annot=True, cmap='Blues')\n",
        "\n",
        "ax.set_title('Confusion Matrix Of Random Forest For The Given Dataset\\n\\n');\n",
        "ax.set_xlabel('\\nPredicted Values')\n",
        "ax.set_ylabel('Actual Values ');\n",
        "\n",
        "## Ticket labels - List must be in alphabetical order\n",
        "ax.xaxis.set_ticklabels(['False','True'])\n",
        "ax.yaxis.set_ticklabels(['False','True'])\n",
        "\n",
        "## Display the visualization of the Confusion Matrix.\n",
        "plt.show()"
      ]
    },
    {
      "cell_type": "markdown",
      "metadata": {
        "id": "Lj8ohPF8NNQE"
      },
      "source": [
        "SVM algorithm"
      ]
    },
    {
      "cell_type": "code",
      "execution_count": null,
      "metadata": {
        "id": "ZeImQkKwWR-X"
      },
      "outputs": [],
      "source": [
        "import numpy as np\n",
        "from sklearn.datasets import load_digits\n",
        "from sklearn.model_selection import train_test_split\n",
        "from sklearn.svm import SVC\n",
        "from sklearn.metrics import confusion_matrix, accuracy_score"
      ]
    },
    {
      "cell_type": "code",
      "execution_count": null,
      "metadata": {
        "id": "VE9m5QFfWZao"
      },
      "outputs": [],
      "source": [
        "X = df2.iloc[:, 0:12].values\n",
        "y = df2.iloc[:, 12].values\n",
        "x_train, x_test, y_train, y_test = train_test_split(X, y, test_size=0.30, random_state=100)"
      ]
    },
    {
      "cell_type": "markdown",
      "metadata": {
        "id": "qrF1cCnZYH71"
      },
      "source": [
        "SVM classifier"
      ]
    },
    {
      "cell_type": "code",
      "execution_count": null,
      "metadata": {
        "id": "AvuKQsf_X7pr"
      },
      "outputs": [],
      "source": [
        "Classifier = SVC(kernel=\"linear\")"
      ]
    },
    {
      "cell_type": "markdown",
      "metadata": {
        "id": "G6fGObisYK6H"
      },
      "source": [
        "Training model"
      ]
    },
    {
      "cell_type": "code",
      "execution_count": null,
      "metadata": {
        "colab": {
          "base_uri": "https://localhost:8080/"
        },
        "id": "CiSWxnAIYANr",
        "outputId": "f52637c7-c5ae-4bab-89b4-0eb4bf3f71e8"
      },
      "outputs": [
        {
          "output_type": "execute_result",
          "data": {
            "text/plain": [
              "SVC(kernel='linear')"
            ]
          },
          "metadata": {},
          "execution_count": 43
        }
      ],
      "source": [
        "Classifier.fit(x_train, y_train)"
      ]
    },
    {
      "cell_type": "markdown",
      "metadata": {
        "id": "rf8Ns3qZYQZ5"
      },
      "source": [
        "Using the model to predict the labels of the test data\n"
      ]
    },
    {
      "cell_type": "code",
      "execution_count": null,
      "metadata": {
        "id": "7eMM-3fXYN5s"
      },
      "outputs": [],
      "source": [
        "y_pred = Classifier.predict(x_test)"
      ]
    },
    {
      "cell_type": "code",
      "execution_count": null,
      "metadata": {
        "colab": {
          "base_uri": "https://localhost:8080/",
          "height": 667
        },
        "id": "zl6HmDzWYVsZ",
        "outputId": "94b34350-48d4-4f59-f5dd-4ef4b2ea157c"
      },
      "outputs": [
        {
          "output_type": "stream",
          "name": "stdout",
          "text": [
            "Accuracy for SVM is: 73.95833333333334\n",
            "\n",
            " Accuracy Of SVM For The Given Dataset :  0.7395833333333334\n",
            "\n",
            " Confusion Matrix Of SVM For The Given Dataset : \n",
            " [[78 24]\n",
            " [26 64]]\n"
          ]
        },
        {
          "output_type": "display_data",
          "data": {
            "text/plain": [
              "<Figure size 432x288 with 2 Axes>"
            ],
            "image/png": "[encoded data removed]"
          },
          "metadata": {
            "needs_background": "light"
          }
        },
        {
          "output_type": "stream",
          "name": "stdout",
          "text": [
            "[[78 24]\n",
            " [26 64]]\n",
            "              precision    recall  f1-score   support\n",
            "\n",
            "           0       0.75      0.76      0.76       102\n",
            "           1       0.73      0.71      0.72        90\n",
            "\n",
            "    accuracy                           0.74       192\n",
            "   macro avg       0.74      0.74      0.74       192\n",
            "weighted avg       0.74      0.74      0.74       192\n",
            "\n",
            "0.7395833333333334\n"
          ]
        }
      ],
      "source": [
        "accuracy = accuracy_score(y_test,y_pred)*100\n",
        "confusion_mat = confusion_matrix(y_test,y_pred)\n",
        "\n",
        "print(\"Accuracy for SVM is:\",accuracy)\n",
        "cm = confusion_matrix(y_test,y_pred)\n",
        "accuracy = float(cm.diagonal().sum())/len(y_test)\n",
        "print(\"\\n Accuracy Of SVM For The Given Dataset : \", accuracy)\n",
        "print(\"\\n Confusion Matrix Of SVM For The Given Dataset : \\n\", cm)\n",
        "\n",
        "import seaborn as sns\n",
        "\n",
        "ax = sns.heatmap(cm, annot=True, cmap='Blues')\n",
        "\n",
        "ax.set_title('Confusion Matrix Of SVM For The Given Dataset\\n\\n');\n",
        "ax.set_xlabel('\\nPredicted Values')\n",
        "ax.set_ylabel('Actual Values ');\n",
        "\n",
        "## Ticket labels - List must be in alphabetical order\n",
        "ax.xaxis.set_ticklabels(['False','True'])\n",
        "ax.yaxis.set_ticklabels(['False','True'])\n",
        "\n",
        "## Display the visualization of the Confusion Matrix.\n",
        "plt.show()\n",
        "\n",
        "\n",
        "from sklearn.metrics import classification_report, confusion_matrix, accuracy_score\n",
        "\n",
        "print(confusion_matrix(y_test,y_pred))\n",
        "print(classification_report(y_test,y_pred))\n",
        "print(accuracy_score(y_test, y_pred))"
      ]
    },
    {
      "cell_type": "code",
      "execution_count": null,
      "metadata": {
        "id": "vUwV6VMSsZMb"
      },
      "outputs": [],
      "source": [
        "#k fold valsidation"
      ]
    },
    {
      "cell_type": "code",
      "execution_count": null,
      "metadata": {
        "colab": {
          "base_uri": "https://localhost:8080/"
        },
        "id": "cgP-fGiisfJG",
        "outputId": "90f91c68-00ba-44ce-f75b-38bd3145c569"
      },
      "outputs": [
        {
          "output_type": "stream",
          "name": "stdout",
          "text": [
            "0.774496644295302\n",
            "0.7708333333333334\n"
          ]
        }
      ],
      "source": [
        "from sklearn.model_selection import cross_val_score\n",
        "train_scores=cross_val_score(Classifier,x_train,y_train,scoring='accuracy', cv=3)\n",
        "test_scores=cross_val_score(Classifier,x_test,y_test,scoring='accuracy', cv=3)\n",
        "print(train_scores.mean())\n",
        "print(test_scores.mean())"
      ]
    },
    {
      "cell_type": "markdown",
      "metadata": {
        "id": "e597GDTx4SXd"
      },
      "source": [
        "KNN Alogirthm"
      ]
    },
    {
      "cell_type": "code",
      "execution_count": null,
      "metadata": {
        "colab": {
          "base_uri": "https://localhost:8080/"
        },
        "id": "9-MnzDLp4R0e",
        "outputId": "e04efc9f-fa19-4383-cfae-d2f11c6d1f7f"
      },
      "outputs": [
        {
          "output_type": "stream",
          "name": "stdout",
          "text": [
            "0.7185268414481898\n",
            "0.724561403508772\n",
            "0.703125\n",
            "[[59 39]\n",
            " [18 76]]\n",
            "              precision    recall  f1-score   support\n",
            "\n",
            "           0       0.77      0.60      0.67        98\n",
            "           1       0.66      0.81      0.73        94\n",
            "\n",
            "    accuracy                           0.70       192\n",
            "   macro avg       0.71      0.71      0.70       192\n",
            "weighted avg       0.71      0.70      0.70       192\n",
            "\n"
          ]
        }
      ],
      "source": [
        "# Import necessary modules\n",
        "from sklearn.neighbors import KNeighborsClassifier\n",
        "from sklearn.model_selection import train_test_split\n",
        "\n",
        "# Create feature and target arrays\n",
        "X = df2.iloc[:, 0:12].values\n",
        "y = df2.iloc[:, 12].values\n",
        "\n",
        "# Split into training and test set\n",
        "X_train, X_test, y_train, y_test = train_test_split(X, y, test_size = 0.3)\n",
        "\n",
        "from sklearn.preprocessing import StandardScaler\n",
        "scaler = StandardScaler()\n",
        "scaler.fit(X_train)\n",
        "\n",
        "X_train = scaler.transform(X_train)\n",
        "X_test = scaler.transform(X_test)\n",
        "\n",
        "knn = KNeighborsClassifier(n_neighbors=3)\n",
        "knn.fit(X_train, y_train)\n",
        "\n",
        "y_pred = knn.predict(X_test)\n",
        "\n",
        "#k fold valsidation\n",
        "from sklearn.model_selection import cross_val_score\n",
        "train_scores=cross_val_score(knn,X_train,y_train,scoring='accuracy', cv=5)\n",
        "test_scores=cross_val_score(knn,X_test,y_test,scoring='accuracy', cv=5)\n",
        "print(train_scores.mean())\n",
        "print(test_scores.mean())\n",
        "\n",
        "# Calculate the accuracy of the model\n",
        "print(knn.score(X_test, y_test))\n",
        "\n",
        "from sklearn.metrics import classification_report, confusion_matrix\n",
        "print(confusion_matrix(y_test, y_pred))\n",
        "print(classification_report(y_test, y_pred))\n",
        "\n"
      ]
    },
    {
      "cell_type": "markdown",
      "source": [
        "Adaboost"
      ],
      "metadata": {
        "id": "ahHxAN5fAqnK"
      }
    },
    {
      "cell_type": "code",
      "source": [
        "X = df2.iloc[:, 0:12].values\n",
        "y = df2.iloc[:, 12].values\n",
        "\n",
        "from sklearn.model_selection import train_test_split\n",
        "X_train, X_test, Y_train, Y_test = train_test_split(X, y, test_size = 0.3, random_state=100)\n",
        "\n",
        "from sklearn.ensemble import AdaBoostClassifier\n",
        "adaboost = AdaBoostClassifier(n_estimators=100, base_estimator= None,learning_rate=1, random_state = 100)\n",
        "adaboost.fit(X_train,Y_train)\n",
        "\n",
        "Y_pred = adaboost.predict(X_test)\n",
        "\n",
        "print({\"Actual test\" : Y_test,\"Predicted\" : Y_pred})"
      ],
      "metadata": {
        "id": "Yk3Hzix2AsoP",
        "colab": {
          "base_uri": "https://localhost:8080/"
        },
        "outputId": "61d36953-ab9a-4c41-c8b4-ca55472fed48"
      },
      "execution_count": null,
      "outputs": [
        {
          "output_type": "stream",
          "name": "stdout",
          "text": [
            "{'Actual test': array([1, 1, 0, 0, 0, 1, 1, 1, 0, 1, 0, 1, 0, 0, 1, 1, 1, 1, 0, 1, 1, 0,\n",
            "       1, 1, 1, 1, 0, 0, 0, 0, 1, 1, 1, 0, 0, 0, 0, 1, 0, 0, 0, 0, 1, 0,\n",
            "       0, 1, 0, 0, 0, 1, 0, 1, 0, 1, 0, 0, 0, 0, 0, 0, 1, 1, 0, 1, 1, 1,\n",
            "       1, 0, 0, 0, 1, 1, 1, 1, 0, 0, 1, 0, 1, 0, 0, 0, 0, 0, 1, 0, 0, 1,\n",
            "       0, 0, 1, 0, 0, 1, 1, 1, 0, 0, 0, 1, 0, 0, 0, 0, 1, 1, 0, 0, 1, 0,\n",
            "       1, 0, 1, 1, 1, 0, 0, 1, 1, 0, 1, 0, 1, 0, 0, 1, 0, 1, 0, 0, 1, 0,\n",
            "       0, 1, 0, 0, 1, 1, 1, 0, 1, 1, 1, 1, 1, 0, 0, 1, 1, 0, 1, 0, 0, 1,\n",
            "       0, 0, 1, 1, 0, 1, 0, 1, 0, 0, 1, 1, 1, 1, 1, 0, 1, 0, 0, 0, 0, 1,\n",
            "       1, 0, 0, 1, 0, 1, 1, 0, 0, 0, 0, 0, 1, 0, 1, 1]), 'Predicted': array([1, 0, 1, 0, 0, 1, 1, 0, 0, 1, 0, 1, 0, 0, 1, 0, 1, 1, 0, 1, 1, 0,\n",
            "       0, 1, 0, 1, 0, 0, 0, 0, 1, 1, 1, 0, 0, 1, 1, 1, 1, 1, 0, 0, 1, 1,\n",
            "       1, 1, 0, 1, 0, 1, 1, 1, 0, 1, 0, 0, 0, 1, 0, 1, 1, 1, 0, 1, 0, 0,\n",
            "       0, 0, 0, 0, 1, 0, 1, 1, 0, 1, 1, 0, 1, 1, 0, 0, 0, 1, 0, 0, 0, 1,\n",
            "       1, 0, 0, 0, 0, 1, 1, 0, 0, 0, 0, 1, 0, 0, 0, 0, 1, 1, 0, 1, 1, 0,\n",
            "       0, 0, 0, 1, 1, 0, 0, 0, 1, 0, 0, 0, 0, 1, 0, 0, 0, 1, 0, 0, 1, 0,\n",
            "       0, 0, 0, 1, 1, 1, 0, 0, 1, 1, 0, 1, 1, 1, 1, 1, 0, 1, 1, 0, 0, 1,\n",
            "       0, 0, 0, 1, 1, 0, 1, 0, 1, 1, 1, 0, 1, 1, 1, 0, 1, 1, 0, 0, 0, 0,\n",
            "       0, 0, 0, 1, 0, 0, 1, 0, 0, 1, 0, 0, 1, 1, 1, 0])}\n"
          ]
        }
      ]
    },
    {
      "cell_type": "markdown",
      "source": [
        "Accuracy"
      ],
      "metadata": {
        "id": "pf1e2LGXCE9A"
      }
    },
    {
      "cell_type": "code",
      "source": [
        "\n",
        "from sklearn.metrics import classification_report, confusion_matrix, accuracy_score\n",
        "\n",
        "print(classification_report(Y_test,Y_pred))\n",
        "print(accuracy_score(Y_test, Y_pred))\n",
        "cm = confusion_matrix(Y_test,Y_pred)\n",
        "accuracy = float(cm.diagonal().sum())/len(Y_test)\n",
        "print(\"\\n Accuracy Of AdaBoost For The Given Dataset : \", accuracy_score(Y_test, Y_pred))\n",
        "print(\"\\n Confusion Matrix Of AdaBoost For The Given Dataset : \\n\", cm)\n",
        "\n",
        "import seaborn as sns\n",
        "\n",
        "ax = sns.heatmap(cm, annot=True, cmap='Blues')\n",
        "\n",
        "ax.set_title('Confusion Matrix Of AdaBoost For The Given Dataset\\n\\n');\n",
        "ax.set_xlabel('\\nPredicted Values')\n",
        "ax.set_ylabel('Actual Values ');\n",
        "\n",
        "## Ticket labels - List must be in alphabetical order\n",
        "ax.xaxis.set_ticklabels(['False','True'])\n",
        "ax.yaxis.set_ticklabels(['False','True'])\n",
        "\n",
        "## Display the visualization of the Confusion Matrix.\n",
        "plt.show()"
      ],
      "metadata": {
        "colab": {
          "base_uri": "https://localhost:8080/",
          "height": 615
        },
        "id": "JD67EJDyCGJJ",
        "outputId": "1ea735c6-e63c-483d-e125-d4b2f499181d"
      },
      "execution_count": null,
      "outputs": [
        {
          "output_type": "stream",
          "name": "stdout",
          "text": [
            "              precision    recall  f1-score   support\n",
            "\n",
            "           0       0.71      0.73      0.72       102\n",
            "           1       0.68      0.67      0.67        90\n",
            "\n",
            "    accuracy                           0.70       192\n",
            "   macro avg       0.70      0.70      0.70       192\n",
            "weighted avg       0.70      0.70      0.70       192\n",
            "\n",
            "0.6979166666666666\n",
            "\n",
            " Accuracy Of AdaBoost For The Given Dataset :  0.6979166666666666\n",
            "\n",
            " Confusion Matrix Of AdaBoost For The Given Dataset : \n",
            " [[74 28]\n",
            " [30 60]]\n"
          ]
        },
        {
          "output_type": "display_data",
          "data": {
            "text/plain": [
              "<Figure size 432x288 with 2 Axes>"
            ],
            "image/png": "[encoded data removed]"
          },
          "metadata": {
            "needs_background": "light"
          }
        }
      ]
    },
    {
      "cell_type": "markdown",
      "metadata": {
        "id": "7tkPO0c5fqcw"
      },
      "source": [
        "Ensemble Stacking"
      ]
    },
    {
      "cell_type": "code",
      "execution_count": null,
      "metadata": {
        "colab": {
          "base_uri": "https://localhost:8080/",
          "height": 352
        },
        "id": "ibs29keYfssw",
        "outputId": "6bdaeba2-6871-4083-b1ee-8522c240efde"
      },
      "outputs": [
        {
          "output_type": "stream",
          "name": "stdout",
          "text": [
            "The accuracy score of DecisionTreeClassifier(max_depth=10, min_samples_leaf=8, random_state=100) is: 0.7890625\n",
            "The accuracy score of RandomForestClassifier(n_estimators=150) is: 0.9734375\n",
            "The accuracy score of KNeighborsClassifier(n_neighbors=2) is: 0.8265625\n",
            "The accuracy score of SVC(kernel='linear') is: 0.765625\n",
            "The accuracy score of AdaBoostClassifier(learning_rate=1, n_estimators=100, random_state=100) is: 0.75625\n"
          ]
        },
        {
          "output_type": "display_data",
          "data": {
            "text/plain": [
              "<Figure size 432x288 with 1 Axes>"
            ],
            "image/png": "[encoded data removed]"
          },
          "metadata": {
            "needs_background": "light"
          }
        }
      ],
      "source": [
        "dtc = train_using_gini(X_train, X_test, y_train)\n",
        "rfc = RandomForestClassifier(n_estimators=150)\n",
        "knn = KNeighborsClassifier(n_neighbors=2)\n",
        "svm = SVC(kernel=\"linear\")\n",
        "adaboost = AdaBoostClassifier(n_estimators=100, base_estimator= None,learning_rate=1, random_state = 100)\n",
        "\n",
        "clf = [dtc,rfc,knn,svm,adaboost]\n",
        "results=list()\n",
        "for algo in clf:\n",
        "    score = cross_val_score( algo,X,y,cv = 5,scoring = 'accuracy')\n",
        "    print(\"The accuracy score of {} is:\".format(algo),score.mean())\n",
        "    results.append(score)\n",
        "    #print(\"The accuracy score of {} is:\".format(algo),score)\n",
        "\n",
        "from matplotlib import pyplot\n",
        "pyplot.figsize=(20,25)\n",
        "pyplot.boxplot(results,labels=['Decision Tree','Random Forest','KNN','SVM','Adaboost'],showmeans=True)\n",
        "pyplot.show()"
      ]
    },
    {
      "cell_type": "markdown",
      "metadata": {
        "id": "nEE7fmJwgxap"
      },
      "source": [
        "Performing Stacking and Cross validation"
      ]
    },
    {
      "cell_type": "code",
      "execution_count": null,
      "metadata": {
        "colab": {
          "base_uri": "https://localhost:8080/",
          "height": 282
        },
        "id": "ue1n2L2Ag034",
        "outputId": "b7b98037-2e73-4a5c-9814-bf8b5bae72e3"
      },
      "outputs": [
        {
          "output_type": "stream",
          "name": "stdout",
          "text": [
            "The accuracy score of is: 0.975\n"
          ]
        },
        {
          "output_type": "display_data",
          "data": {
            "text/plain": [
              "<Figure size 432x288 with 1 Axes>"
            ],
            "image/png": "[encoded data removed]"
          },
          "metadata": {
            "needs_background": "light"
          }
        }
      ],
      "source": [
        "dtc =  DecisionTreeClassifier()\n",
        "rfc = RandomForestClassifier()\n",
        "knn = KNeighborsClassifier(n_neighbors=2)\n",
        "svm = SVC(kernel=\"linear\")\n",
        "adaboost = AdaBoostClassifier(n_estimators=100, base_estimator= None,learning_rate=1, random_state = 100)\n",
        "clf = [('dtc',dtc),('rfc',rfc),('knn',knn),('svm',svm),('adaboost',adaboost)] #list of (str, estimator)\n",
        "\n",
        "from sklearn.ensemble import StackingClassifier\n",
        "\n",
        "rf = RandomForestClassifier()\n",
        "stack_model = StackingClassifier( estimators = clf,final_estimator = rf)\n",
        "score = cross_val_score(stack_model,X,y,cv = 5,scoring = 'accuracy')\n",
        "print(\"The accuracy score of is:\",score.mean())\n",
        "\n",
        "\n",
        "from matplotlib import pyplot\n",
        "pyplot.figsize=(20,25)\n",
        "pyplot.boxplot(score,labels=['Stacking'],showmeans=True)\n",
        "pyplot.show()\n",
        "\n"
      ]
    }
  ],
  "metadata": {
    "accelerator": "GPU",
    "colab": {
      "provenance": []
    },
    "kernelspec": {
      "display_name": "Python 3",
      "name": "python3"
    },
    "language_info": {
      "name": "python"
    }
  },
  "nbformat": 4,
  "nbformat_minor": 0
}